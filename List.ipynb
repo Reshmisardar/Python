{
  "nbformat": 4,
  "nbformat_minor": 0,
  "metadata": {
    "colab": {
      "provenance": []
    },
    "kernelspec": {
      "name": "python3",
      "display_name": "Python 3"
    },
    "language_info": {
      "name": "python"
    }
  },
  "cells": [
    {
      "cell_type": "markdown",
      "source": [
        "**Question 1: Write a Python program to count the number of elements in a list without using len.**"
      ],
      "metadata": {
        "id": "bGWrIquVKWpg"
      }
    },
    {
      "cell_type": "code",
      "source": [
        "a = ['10','20','30','40','50','60','70']\n",
        "count =0\n",
        "for i in a:\n",
        "    count=count+1\n",
        "print(f'the number of elements in a list:{count}')"
      ],
      "metadata": {
        "colab": {
          "base_uri": "https://localhost:8080/"
        },
        "id": "W2JpRuZaKXqb",
        "outputId": "3907f535-cc4f-4fbc-8ae5-fcff4baa0031"
      },
      "execution_count": 3,
      "outputs": [
        {
          "output_type": "stream",
          "name": "stdout",
          "text": [
            "the number of elements in a list:7\n"
          ]
        }
      ]
    },
    {
      "cell_type": "markdown",
      "source": [
        "***Question 2: Write a Python program to find the maximum and minimum values in a given list.***"
      ],
      "metadata": {
        "id": "sluUWpYOK5Jj"
      }
    },
    {
      "cell_type": "code",
      "source": [
        "def max_value(a):\n",
        "    max_count=a[0]\n",
        "    for value in a:\n",
        "        if value > max_count:\n",
        "            max_count=value\n",
        "    return max_count\n",
        "\n",
        "def min_value(b):\n",
        "    min_count = b[0]\n",
        "    for values in b:\n",
        "        if values < min_count:\n",
        "            min_count =values\n",
        "    return min_count\n",
        "\n",
        "mylist = [1,200,3,4,8,89,79,56,300,500]\n",
        "\n",
        "print(f'maximun value:{max_value(mylist)}')\n",
        "print(f'minimun value:{min_value(mylist)}')"
      ],
      "metadata": {
        "colab": {
          "base_uri": "https://localhost:8080/"
        },
        "id": "wdaJs80sK__v",
        "outputId": "9548aec1-629a-4e06-8abc-cdaeea5e6311"
      },
      "execution_count": 4,
      "outputs": [
        {
          "output_type": "stream",
          "name": "stdout",
          "text": [
            "maximun value:500\n",
            "minimun value:1\n"
          ]
        }
      ]
    },
    {
      "cell_type": "markdown",
      "source": [
        "***Question 3: Write a Python program to remove the first occurrence of a specified element from a list.***"
      ],
      "metadata": {
        "id": "peVygWatLXLe"
      }
    },
    {
      "cell_type": "code",
      "source": [
        "a =[10,20,30,40,50,60,70,66,81,90,31]\n",
        "a.remove(81)\n",
        "print(a)"
      ],
      "metadata": {
        "colab": {
          "base_uri": "https://localhost:8080/"
        },
        "id": "3A-EdkOvLZhW",
        "outputId": "8f0b754c-7ea1-4a45-d71b-642eecd4d2cb"
      },
      "execution_count": 8,
      "outputs": [
        {
          "output_type": "stream",
          "name": "stdout",
          "text": [
            "[10, 20, 30, 40, 50, 60, 70, 66, 90, 31]\n"
          ]
        }
      ]
    },
    {
      "cell_type": "markdown",
      "source": [
        "***Question 4: Write a Python program to find the average of all the elements in a list.***"
      ],
      "metadata": {
        "id": "ywfGibwuMaFB"
      }
    },
    {
      "cell_type": "code",
      "source": [
        "a = [100,200,300,400,500,600,700,800]\n",
        "a = sum(a) / len(a)\n",
        "print(f'find the average of all elements from list: {round(a, 2)}')"
      ],
      "metadata": {
        "colab": {
          "base_uri": "https://localhost:8080/"
        },
        "id": "EDRVR64YMgIV",
        "outputId": "1733bc23-db50-4576-b160-1c5b493e12a3"
      },
      "execution_count": 10,
      "outputs": [
        {
          "output_type": "stream",
          "name": "stdout",
          "text": [
            "find the average of all elements from list: 450.0\n"
          ]
        }
      ]
    },
    {
      "cell_type": "markdown",
      "source": [
        "***Question 5: Write a Python program to check if a list is empty or not.***"
      ],
      "metadata": {
        "id": "6jedihdtN7rW"
      }
    },
    {
      "cell_type": "code",
      "source": [
        "list1 = [10]\n",
        "list2 = []\n",
        "\n",
        "if list2:\n",
        "\tprint(\"list is not empty\")\n",
        "else:\n",
        "\tprint(\"list is empty\")\n"
      ],
      "metadata": {
        "colab": {
          "base_uri": "https://localhost:8080/"
        },
        "id": "wPEMxkFcOA9i",
        "outputId": "188904ec-a751-4120-8ff4-6f1fb09cdc04"
      },
      "execution_count": 16,
      "outputs": [
        {
          "output_type": "stream",
          "name": "stdout",
          "text": [
            "list is empty\n"
          ]
        }
      ]
    },
    {
      "cell_type": "markdown",
      "source": [
        "***Question 6:  Write a Python program to find the index of a specified element in a list.***"
      ],
      "metadata": {
        "id": "YZaBHp9TQB8Q"
      }
    },
    {
      "cell_type": "code",
      "source": [
        "a = [5,23,45,67,405,68,3,6,8,9,31,200,50]\n",
        "print(a.index(45))"
      ],
      "metadata": {
        "colab": {
          "base_uri": "https://localhost:8080/"
        },
        "id": "1z5fi9YjQCn8",
        "outputId": "e23090b8-132b-45eb-8164-b2efb3b9de13"
      },
      "execution_count": 19,
      "outputs": [
        {
          "output_type": "stream",
          "name": "stdout",
          "text": [
            "2\n"
          ]
        }
      ]
    },
    {
      "cell_type": "markdown",
      "source": [
        "***Question 7: Write a Python program to find which number is palindrome in below given list .***"
      ],
      "metadata": {
        "id": "SURRDwmnQUna"
      }
    },
    {
      "cell_type": "code",
      "source": [
        "a= [124, 521, 155,111]\n",
        "def palindrome(n):\n",
        "    return str(n) == str(n)[::-1]\n",
        "\n",
        "for number in a:\n",
        "    if palindrome(number):\n",
        "        print(f'{number} is a palindrome')\n",
        "    else:\n",
        "        print(f'{number} is not a palindrome')"
      ],
      "metadata": {
        "colab": {
          "base_uri": "https://localhost:8080/"
        },
        "id": "BOzCDJOQQVjR",
        "outputId": "395c2155-879d-4dfb-be96-eeb9cd23dcc2"
      },
      "execution_count": 20,
      "outputs": [
        {
          "output_type": "stream",
          "name": "stdout",
          "text": [
            "124 is not a palindrome\n",
            "521 is not a palindrome\n",
            "155 is not a palindrome\n",
            "111 is a palindrome\n"
          ]
        }
      ]
    },
    {
      "cell_type": "markdown",
      "source": [
        "***Question 8: Write a Python program to find the common elements between two lists.***"
      ],
      "metadata": {
        "id": "gT1KpS3-QhZ6"
      }
    },
    {
      "cell_type": "code",
      "source": [
        "a = ['apple','banana','grapes','guava']\n",
        "b = ['carrot','apple','onion','guava']\n",
        "for i in a:\n",
        "    if i in b:\n",
        "        print(i,end=\" \")"
      ],
      "metadata": {
        "colab": {
          "base_uri": "https://localhost:8080/"
        },
        "id": "L2xFvHYcQmK7",
        "outputId": "6bec5d5b-3350-4ed4-d250-6c934b04e34c"
      },
      "execution_count": 25,
      "outputs": [
        {
          "output_type": "stream",
          "name": "stdout",
          "text": [
            "apple guava "
          ]
        }
      ]
    },
    {
      "cell_type": "markdown",
      "source": [
        "***Question 9: Write a Python program to remove the duplicates from a list.***"
      ],
      "metadata": {
        "id": "Jt3uTsjMRL85"
      }
    },
    {
      "cell_type": "code",
      "source": [
        "a = ['apple','banana','grapes','guava','carrot','apple','onion','guava']\n",
        "new_values=[]\n",
        "[new_values.append(i) for i in a if i not in new_values]\n",
        "print('duplicates data removed from list',new_values)"
      ],
      "metadata": {
        "colab": {
          "base_uri": "https://localhost:8080/"
        },
        "id": "esGTagwVRP0M",
        "outputId": "c1b21e17-5c8d-49fa-8b06-4a874aeb7099"
      },
      "execution_count": 27,
      "outputs": [
        {
          "output_type": "stream",
          "name": "stdout",
          "text": [
            "duplicates data removed from list ['apple', 'banana', 'grapes', 'guava', 'carrot', 'onion']\n"
          ]
        }
      ]
    },
    {
      "cell_type": "markdown",
      "source": [
        "***Question 10:  Write a Python program to sort a list of strings in Ascii Order [Ascending order]***"
      ],
      "metadata": {
        "id": "ZO98gnyMSw9W"
      }
    },
    {
      "cell_type": "code",
      "source": [
        "a = [8,7,6,5,4,3,2,1]\n",
        "a.sort()\n",
        "print(a)"
      ],
      "metadata": {
        "colab": {
          "base_uri": "https://localhost:8080/"
        },
        "id": "MrPypvK0S39E",
        "outputId": "0c699aee-d680-4114-cba3-c2a9606e4e96"
      },
      "execution_count": 29,
      "outputs": [
        {
          "output_type": "stream",
          "name": "stdout",
          "text": [
            "[1, 2, 3, 4, 5, 6, 7, 8]\n"
          ]
        }
      ]
    }
  ]
}