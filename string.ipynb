{
  "nbformat": 4,
  "nbformat_minor": 0,
  "metadata": {
    "colab": {
      "provenance": []
    },
    "kernelspec": {
      "name": "python3",
      "display_name": "Python 3"
    },
    "language_info": {
      "name": "python"
    }
  },
  "cells": [
    {
      "cell_type": "markdown",
      "source": [
        "***Question 1: Write a Python program to count the number of characters in a string without using len function.***"
      ],
      "metadata": {
        "id": "EFfz1YWOt6UQ"
      }
    },
    {
      "cell_type": "code",
      "source": [
        "a = 'Data Analyst'\n",
        "count = 0\n",
        "for i in a:\n",
        "    count = count +1\n",
        "print(count)"
      ],
      "metadata": {
        "colab": {
          "base_uri": "https://localhost:8080/"
        },
        "id": "aNRN5Lhzt7Nk",
        "outputId": "cd6cfba2-464d-423e-e4c4-78145aff02a6"
      },
      "execution_count": 1,
      "outputs": [
        {
          "output_type": "stream",
          "name": "stdout",
          "text": [
            "12\n"
          ]
        }
      ]
    },
    {
      "cell_type": "markdown",
      "source": [
        "***Question 2: Write a Python program to reverse a string without using [::-1]***"
      ],
      "metadata": {
        "id": "4SlUnH3PuUUC"
      }
    },
    {
      "cell_type": "code",
      "source": [
        "def reverse_string(s):\n",
        "    reversed_s = ''\n",
        "    for char in s:\n",
        "        reversed_s = char + reversed_s\n",
        "    return reversed_s\n",
        "# Given string\n",
        "correct_string = \"Python\"\n",
        "reversed_string = reverse_string(correct_string)\n",
        "print(\"correct string:\", correct_string)\n",
        "print(\"Reversed string:\", reversed_string)"
      ],
      "metadata": {
        "colab": {
          "base_uri": "https://localhost:8080/"
        },
        "id": "gqS81QJvuVOj",
        "outputId": "61d9e940-d5ee-4adb-80cf-213db8c9afad"
      },
      "execution_count": 6,
      "outputs": [
        {
          "output_type": "stream",
          "name": "stdout",
          "text": [
            "correct string: Python\n",
            "Reversed string: nohtyP\n"
          ]
        }
      ]
    },
    {
      "cell_type": "markdown",
      "source": [
        "***Question 3: Write a Python program to check if a string is a palindrome don't use [::-1].***"
      ],
      "metadata": {
        "id": "3qWQurUavNFE"
      }
    },
    {
      "cell_type": "code",
      "source": [
        "input_string = \"madam\"\n",
        "rev = input_string[::-1]\n",
        "\n",
        "if input_string == rev:\n",
        "    print(rev + \" is Palindrome\")\n",
        "else:\n",
        "    print(rev + \" is not Palindrome\")"
      ],
      "metadata": {
        "colab": {
          "base_uri": "https://localhost:8080/"
        },
        "id": "e8IeYIqj7PQm",
        "outputId": "0994594d-1ffd-41d7-aab7-272534ebee56"
      },
      "execution_count": 10,
      "outputs": [
        {
          "output_type": "stream",
          "name": "stdout",
          "text": [
            "madam is Palindrome\n"
          ]
        }
      ]
    },
    {
      "cell_type": "markdown",
      "source": [
        "***Question 4: Write a Python program to find the most common character in a string.***"
      ],
      "metadata": {
        "id": "ptFhC_ni72g8"
      }
    },
    {
      "cell_type": "code",
      "source": [
        "from collections import Counter\n",
        "\n",
        "char = \"Hello How are you\"\n",
        "character = Counter(char)\n",
        "print(f'The most common character: {character.most_common(1)}')"
      ],
      "metadata": {
        "colab": {
          "base_uri": "https://localhost:8080/"
        },
        "id": "EhbP9B1l73t0",
        "outputId": "4d3d4320-17c6-41cb-f90b-436044eac11c"
      },
      "execution_count": 30,
      "outputs": [
        {
          "output_type": "stream",
          "name": "stdout",
          "text": [
            "The most common character: [('o', 3)]\n"
          ]
        }
      ]
    },
    {
      "cell_type": "markdown",
      "source": [
        "***Question 5: Write a Python program to check if two strings are anagrams.***"
      ],
      "metadata": {
        "id": "zJ9fGtN393C4"
      }
    },
    {
      "cell_type": "code",
      "source": [
        "def check(s1, s2):\n",
        "\n",
        "    # implementing counter function\n",
        "    if(Counter(s1) == Counter(s2)):\n",
        "        print(\"The strings are anagrams.\")\n",
        "    else:\n",
        "        print(\"The strings aren't anagrams.\")\n",
        "s1 = \"listen\"\n",
        "s2 = \"silent\"\n",
        "check(s1, s2)"
      ],
      "metadata": {
        "colab": {
          "base_uri": "https://localhost:8080/"
        },
        "id": "FfnbXRU494jm",
        "outputId": "7fc51d7d-020a-4cdf-d782-bebaf57bf272"
      },
      "execution_count": 16,
      "outputs": [
        {
          "output_type": "stream",
          "name": "stdout",
          "text": [
            "The strings are anagrams.\n"
          ]
        }
      ]
    },
    {
      "cell_type": "markdown",
      "source": [],
      "metadata": {
        "id": "bTF3X-UW-39r"
      }
    },
    {
      "cell_type": "markdown",
      "source": [
        "***Question 6: Write a Python program to remove all the vowels from a string.***"
      ],
      "metadata": {
        "id": "TQFR6RAw-9eX"
      }
    },
    {
      "cell_type": "code",
      "source": [
        "a = \"Data Analyst\"\n",
        "for i in a:\n",
        "    if i not in 'aeiouAEIOU':\n",
        "        print(i,end=\" \")"
      ],
      "metadata": {
        "colab": {
          "base_uri": "https://localhost:8080/"
        },
        "id": "nG4FleTd--SG",
        "outputId": "27feb7ad-63e2-4255-d4ea-7638bd9a313f"
      },
      "execution_count": 18,
      "outputs": [
        {
          "output_type": "stream",
          "name": "stdout",
          "text": [
            "D t   n l y s t "
          ]
        }
      ]
    },
    {
      "cell_type": "markdown",
      "source": [
        "***Question 7: Write a Python program to find the longest word in a string.***"
      ],
      "metadata": {
        "id": "OqY0UiXf_LTH"
      }
    },
    {
      "cell_type": "code",
      "source": [
        "str = \"Hello Good Morning\"\n",
        "words = str.split()\n",
        "longest_word =max(words,key=len)\n",
        "print(longest_word)"
      ],
      "metadata": {
        "colab": {
          "base_uri": "https://localhost:8080/"
        },
        "id": "qETMQ7GO_P9C",
        "outputId": "0ab7f2ea-9d66-42f6-e7ef-a7c8e0ca098a"
      },
      "execution_count": 19,
      "outputs": [
        {
          "output_type": "stream",
          "name": "stdout",
          "text": [
            "Morning\n"
          ]
        }
      ]
    },
    {
      "cell_type": "markdown",
      "source": [
        "***Question 8: Write a Python program to capitalize the first letter of each word in a string [dont use built-in-function called title].***"
      ],
      "metadata": {
        "id": "fNr8TQmT_hxb"
      }
    },
    {
      "cell_type": "code",
      "source": [
        "str = \"data analyst\"\n",
        "print(str.capitalize())\n"
      ],
      "metadata": {
        "colab": {
          "base_uri": "https://localhost:8080/"
        },
        "id": "caTsf-Vg_mC9",
        "outputId": "7195ec29-e60e-4842-ebc2-7bcae5c16803"
      },
      "execution_count": 20,
      "outputs": [
        {
          "output_type": "stream",
          "name": "stdout",
          "text": [
            "Data analyst\n"
          ]
        }
      ]
    },
    {
      "cell_type": "markdown",
      "source": [
        "***Question 9: Write a Python program to find the frequency of each character in a string.***"
      ],
      "metadata": {
        "id": "cYtDQTO__wrI"
      }
    },
    {
      "cell_type": "code",
      "source": [
        "character = \"python\"\n",
        "empty_dict ={}\n",
        "for i in character:\n",
        "    if i in empty_dict.keys():\n",
        "        empty_dict[i]=empty_dict[i]+1\n",
        "    else:\n",
        "        empty_dict[i]=1\n",
        "print(empty_dict)"
      ],
      "metadata": {
        "colab": {
          "base_uri": "https://localhost:8080/"
        },
        "id": "i__C3VCl_2C7",
        "outputId": "d7ef732e-3380-4593-8ce9-742cdff45f40"
      },
      "execution_count": 27,
      "outputs": [
        {
          "output_type": "stream",
          "name": "stdout",
          "text": [
            "{'p': 1, 'y': 1, 't': 1, 'h': 1, 'o': 1, 'n': 1}\n"
          ]
        }
      ]
    },
    {
      "cell_type": "markdown",
      "source": [
        "***Question 10: write a python programme to find the sum of all the even characters based on Ascii values.***"
      ],
      "metadata": {
        "id": "rqtYDUDaBaVA"
      }
    },
    {
      "cell_type": "code",
      "source": [
        "def sum_even_ascii(string):\n",
        "    total_sum = 0\n",
        "     # Iterate through each character in the string\n",
        "    for char in string:\n",
        "\n",
        "        ascii_value = ord(char)\n",
        "\n",
        "        # Check if the ASCII value is even\n",
        "        if ascii_value % 2 == 0:\n",
        "\n",
        "            total_sum += ascii_value\n",
        "    return total_sum\n",
        "\n",
        "input_string = \"sharuk khan\"\n",
        "result = sum_even_ascii(input_string)\n",
        "print(f\"The sum of all even ASCII values is: {result}\")\n"
      ],
      "metadata": {
        "colab": {
          "base_uri": "https://localhost:8080/"
        },
        "id": "5kNtx1V6CMzk",
        "outputId": "0f3a14ba-6c0c-49b9-be8d-c6a3017640bb"
      },
      "execution_count": 36,
      "outputs": [
        {
          "output_type": "stream",
          "name": "stdout",
          "text": [
            "The sum of all even ASCII values is: 464\n"
          ]
        }
      ]
    }
  ]
}