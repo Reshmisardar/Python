{
  "nbformat": 4,
  "nbformat_minor": 0,
  "metadata": {
    "colab": {
      "provenance": []
    },
    "kernelspec": {
      "name": "python3",
      "display_name": "Python 3"
    },
    "language_info": {
      "name": "python"
    }
  },
  "cells": [
    {
      "cell_type": "markdown",
      "source": [
        "**1.Take two integer numbers and return their product. If the product is greater than 1000, then return their sum if product is less than 1000 return product value only.**"
      ],
      "metadata": {
        "id": "cICrc_cFTYan"
      }
    },
    {
      "cell_type": "code",
      "source": [
        "a = 100\n",
        "b = 200\n",
        "product = a * b\n",
        "print(\"product of a and b:\",product)\n",
        "sum = a + b\n",
        "print(\"sum of a and b:\",sum)\n",
        "if product > 1000:\n",
        "    print(\"sum value is:\",sum)\n",
        "elif product < 1000:\n",
        "    print(\"product value is:\",product)"
      ],
      "metadata": {
        "colab": {
          "base_uri": "https://localhost:8080/"
        },
        "id": "89b_K-AyTcog",
        "outputId": "f7ac20c5-ac0e-4b39-84f2-375f407adf1f"
      },
      "execution_count": 3,
      "outputs": [
        {
          "output_type": "stream",
          "name": "stdout",
          "text": [
            "product of a and b: 20000\n",
            "sum of a and b: 300\n",
            "sum value is: 300\n"
          ]
        }
      ]
    },
    {
      "cell_type": "markdown",
      "source": [
        "**2.Given a range of the first 10 numbers, Iterate from the start number to the end number, and In each iteration print the sum of the current number and previous number.**\n",
        "\n",
        "Expected output:\n",
        "-----------------\n",
        "Printing current and previous number sum in a range(10)\n",
        "Current Number 0 Previous Number  0  Sum:  0\n",
        "Current Number 1 Previous Number  0  Sum:  1\n",
        "Current Number 2 Previous Number  1  Sum:  3\n",
        "Current Number 3 Previous Number  2  Sum:  5\n",
        "Current Number 4 Previous Number  3  Sum:  7\n",
        "Current Number 5 Previous Number  4  Sum:  9\n",
        "Current Number 6 Previous Number  5  Sum:  11\n",
        "Current Number 7 Previous Number  6  Sum:  13\n",
        "Current Number 8 Previous Number  7  Sum:  15\n",
        "Current Number 9 Previous Number  8  Sum:  17"
      ],
      "metadata": {
        "id": "TpfI0cNBT2E5"
      }
    },
    {
      "cell_type": "code",
      "source": [
        "current_no = 11\n",
        "previous_no = 0\n",
        "for i in range(0,current_no):\n",
        "    sum = i + previous_no\n",
        "    print(\"current number\",i,\"previous number\",previous_no,\"Sum:\",sum)\n",
        "    previous_no = i"
      ],
      "metadata": {
        "colab": {
          "base_uri": "https://localhost:8080/"
        },
        "id": "uzGqUh76T-AC",
        "outputId": "8b90f00a-eb06-4ba2-9702-81dda86adc6b"
      },
      "execution_count": 6,
      "outputs": [
        {
          "output_type": "stream",
          "name": "stdout",
          "text": [
            "current number 0 previous number 0 Sum: 0\n",
            "current number 1 previous number 0 Sum: 1\n",
            "current number 2 previous number 1 Sum: 3\n",
            "current number 3 previous number 2 Sum: 5\n",
            "current number 4 previous number 3 Sum: 7\n",
            "current number 5 previous number 4 Sum: 9\n",
            "current number 6 previous number 5 Sum: 11\n",
            "current number 7 previous number 6 Sum: 13\n",
            "current number 8 previous number 7 Sum: 15\n",
            "current number 9 previous number 8 Sum: 17\n",
            "current number 10 previous number 9 Sum: 19\n"
          ]
        }
      ]
    },
    {
      "cell_type": "markdown",
      "source": [
        "**3.Given a string and an integer number n, remove characters from a string starting from zero up to n and return a new string**\n",
        "\n",
        "Example :\n",
        "(\"pynative\", 4) so output must be tive.\n",
        "\n",
        "Note: n must be less than the length of the string."
      ],
      "metadata": {
        "id": "-ke9vhdiUcSd"
      }
    },
    {
      "cell_type": "code",
      "source": [
        "strn = \"pynative\"\n",
        "n = 4\n",
        "print(strn[n:])"
      ],
      "metadata": {
        "colab": {
          "base_uri": "https://localhost:8080/"
        },
        "id": "II_c5RDLUiQq",
        "outputId": "c6309e3c-e4aa-4f8e-ed36-ac9a7d2d430d"
      },
      "execution_count": 7,
      "outputs": [
        {
          "output_type": "stream",
          "name": "stdout",
          "text": [
            "tive\n"
          ]
        }
      ]
    },
    {
      "cell_type": "markdown",
      "source": [
        "**4.Given a list of numbers, return True if first and last number of a list is same**\n",
        "Expected Output:\n",
        "-------------------------------------\n",
        "\n",
        "Given list is\n",
        "a =  [10, 20, 30, 40, 10]\n",
        "b = [10 , 20 , 30 , 40, 10 ]\n",
        "result is True\n",
        "\n",
        "Given list is  \n",
        "a = [10, 20, 30, 40, 50]\n",
        "b = [11 , 21 , 31 , 41 , 51 ]\n",
        "result is False"
      ],
      "metadata": {
        "id": "87bNRSUhU8bH"
      }
    },
    {
      "cell_type": "code",
      "source": [
        "a =  [10, 20, 30, 40, 10]\n",
        "b = [10 , 20 , 30 , 40, 10 ]\n",
        "# using index in lists\n",
        "if a[0] == a[4]:\n",
        "    print(\" True\")\n",
        "else:\n",
        "    print(\"false\")"
      ],
      "metadata": {
        "colab": {
          "base_uri": "https://localhost:8080/"
        },
        "id": "EUolbSLlU-o9",
        "outputId": "5914d2ab-a014-4f5a-8108-7ece458e378f"
      },
      "execution_count": 10,
      "outputs": [
        {
          "output_type": "stream",
          "name": "stdout",
          "text": [
            " True\n"
          ]
        }
      ]
    },
    {
      "cell_type": "code",
      "source": [
        "a = [10, 20, 30, 40, 50]\n",
        "b = [11 , 21 , 31 , 41 , 51 ]\n",
        "# using index in lists\n",
        "if b[0] == b[4]:\n",
        "    print(\" True\")\n",
        "else:\n",
        "    print(\"False \")"
      ],
      "metadata": {
        "colab": {
          "base_uri": "https://localhost:8080/"
        },
        "id": "-OCoWAWCVqRx",
        "outputId": "2213a70c-4acd-4a69-93b7-eec931215671"
      },
      "execution_count": 11,
      "outputs": [
        {
          "output_type": "stream",
          "name": "stdout",
          "text": [
            "False \n"
          ]
        }
      ]
    },
    {
      "cell_type": "markdown",
      "source": [
        "**5.# Given a two Python list. Iterate both lists simultaneously such that list1 should display item in original order and list2 in reverse order**\n",
        "\n",
        "list1 = [10, 20, 30, 40]\n",
        "list2 = [100, 200, 300, 400]\n",
        "Expected output:\n",
        "-----------------\n",
        "10 400\n",
        "20 300\n",
        "30 200\n",
        "40 100"
      ],
      "metadata": {
        "id": "70oLRDM9VwOE"
      }
    },
    {
      "cell_type": "code",
      "source": [
        "list1 = [10, 20, 30, 40]\n",
        "list2 = [100, 200, 300, 400]\n",
        "for i,j in zip(list1,list2[::-1]):\n",
        "    print(i,j)"
      ],
      "metadata": {
        "colab": {
          "base_uri": "https://localhost:8080/"
        },
        "id": "MRg2i-NOWATH",
        "outputId": "9bfeae2d-c915-40bd-efe3-09673ef1225a"
      },
      "execution_count": 12,
      "outputs": [
        {
          "output_type": "stream",
          "name": "stdout",
          "text": [
            "10 400\n",
            "20 300\n",
            "30 200\n",
            "40 100\n"
          ]
        }
      ]
    },
    {
      "cell_type": "markdown",
      "source": [
        "**6.Remove empty strings from the list of strings**\n",
        "list1 = [\"Mike\", \"\", \"Emma\", \"Kelly\", \"\", \"Brad\"]\n",
        "Expected output:\n",
        "----------------------\n",
        "[\"Mike\", \"Emma\", \"Kelly\", \"Brad\"]"
      ],
      "metadata": {
        "id": "sy8lgtMjWH13"
      }
    },
    {
      "cell_type": "code",
      "source": [
        "list1 = [\"Mike\", \"\", \"Emma\", \"Kelly\", \"\", \"Brad\"]\n",
        "result = []\n",
        "for i in list1:\n",
        "    if i in \" \":\n",
        "        pass\n",
        "    else:\n",
        "        result.append(i)\n",
        "print(result)"
      ],
      "metadata": {
        "colab": {
          "base_uri": "https://localhost:8080/"
        },
        "id": "kfAH0SNHWKmQ",
        "outputId": "bef5c21d-44f4-4fc5-9397-9132ec8a2a13"
      },
      "execution_count": 13,
      "outputs": [
        {
          "output_type": "stream",
          "name": "stdout",
          "text": [
            "['Mike', 'Emma', 'Kelly', 'Brad']\n"
          ]
        }
      ]
    }
  ]
}